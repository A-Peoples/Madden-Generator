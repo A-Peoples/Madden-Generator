{
  "nbformat": 4,
  "nbformat_minor": 0,
  "metadata": {
    "colab": {
      "provenance": [],
      "mount_file_id": "1K6RVPJSb-4MdeR2zzyEKsW9NQSh8RxhE",
      "authorship_tag": "ABX9TyNpjAm3x1tYjnJ6fN7vKbKM",
      "include_colab_link": true
    },
    "kernelspec": {
      "name": "python3",
      "display_name": "Python 3"
    },
    "language_info": {
      "name": "python"
    }
  },
  "cells": [
    {
      "cell_type": "markdown",
      "metadata": {
        "id": "view-in-github",
        "colab_type": "text"
      },
      "source": [
        "<a href=\"https://colab.research.google.com/github/A-Peoples/Madden-Generator/blob/main/Madden_Player_Generator.ipynb\" target=\"_parent\"><img src=\"https://colab.research.google.com/assets/colab-badge.svg\" alt=\"Open In Colab\"/></a>"
      ]
    },
    {
      "cell_type": "code",
      "execution_count": 1,
      "metadata": {
        "id": "__-XvMysEEOy"
      },
      "outputs": [],
      "source": [
        "import pandas as pd\n",
        "import random\n",
        "import google.cloud\n",
        "import seaborn as sns\n",
        "import math"
      ]
    },
    {
      "cell_type": "markdown",
      "source": [
        "#**Code (Feel Free to edit)**"
      ],
      "metadata": {
        "id": "fzQNz7Psuxa8"
      }
    },
    {
      "cell_type": "code",
      "source": [
        "ratings24 = pd.read_csv('/content/drive/MyDrive/maddennfl24fullplayerratings.csv')"
      ],
      "metadata": {
        "id": "Pl8ge4efTfuk"
      },
      "execution_count": 2,
      "outputs": []
    },
    {
      "cell_type": "code",
      "source": [
        "#Adding Names And Skin/Hair Color\n",
        "\n",
        "names = pd.read_csv(\"/content/drive/MyDrive/Passing_1932_2024.csv\")\n",
        "\n",
        "names.reset_index(drop=True, inplace=True)\n",
        "names = names.loc[names['P_l_a_y_e_r'] != 'League Average']\n",
        "names[['First_Name', 'Last_Name', 'null']] = names['P_l_a_y_e_r'].str.split(\" \", expand=True)\n",
        "\n",
        "names = names[['First_Name', 'Last_Name']]\n",
        "\n",
        "First_Name = names['First_Name'].values\n",
        "Last_Name = names['Last_Name'].values\n",
        "Skin_Color = ['Brown', 'Black', 'White']\n",
        "Hair_Color = ['Black', 'Blonde', 'Brown', 'Red']\n",
        "Cut_Height = ['Short', 'Medium', 'Long']\n",
        "\n",
        "len(names)\n",
        "\n",
        "def generate_name():\n",
        "  global gen_name\n",
        "  gen_name = First_Name[random.randint(-1, len(names))] + \" \"  + Last_Name[random.randint(-1, 8129)]\n",
        "  global gen_skincolor\n",
        "  gen_skincolor = Skin_Color[random.randint(-1, 2)]\n",
        "  print(\"   Name: \" + gen_name)\n",
        "  print(\"   Skincolor: \" + gen_skincolor)"
      ],
      "metadata": {
        "id": "UMbq_cNQiJTw"
      },
      "execution_count": 3,
      "outputs": []
    },
    {
      "cell_type": "code",
      "source": [
        "pd.set_option('expand_frame_repr', False)"
      ],
      "metadata": {
        "id": "FD-5fimwioBG"
      },
      "execution_count": 4,
      "outputs": []
    },
    {
      "cell_type": "code",
      "source": [
        "def print_stats():\n",
        "  passing_cols = ['Throw Under Pressure', 'Throw Power',\n",
        "        'Throw Accuracy Short', 'Throw Accuracy Mid',\n",
        "        'Throw Accuracy Deep', 'Play Action', 'Throw On The Run', 'Break Sack']\n",
        "  physical_cols = ['Height', 'Weight', 'Speed', 'Acceleration', 'Strength', 'Agility',\n",
        "        'Awareness', 'Carrying', 'Injury', 'Stamina', 'Toughness']\n",
        "  rushing_cols = ['Break Tackle', 'Jumping',\n",
        "        'Trucking', 'Power Moves', 'Finesse Moves',\n",
        "        'Change Of Direction', 'Ball Carrier Vision', 'Stiff Arm',\n",
        "        'Spin Move', 'Juke Move']\n",
        "  catching_cols = ['Catching', 'Spectacular Catch', 'Catch In Traffic', 'Short Route Running',\n",
        "        'Medium Route Running', 'Deep Route Running', 'Release']\n",
        "  blocking_cols = ['Run Block', 'Run Block Power','Run Block Finesse',\n",
        "                  'Pass Block','Pass Block Power', 'Pass Block Finesse','Lead Block', 'Impact Blocking']\n",
        "  passrush_cols = ['Power Moves', 'Finesse Moves', 'Block Shedding', 'Pursuit',]\n",
        "  coverage_cols = ['Press', 'Play Recognition', 'Man Coverage', 'Zone Coverage',]\n",
        "  kicking_cols = [ 'Kick Power', 'Kick Accuracy', 'Kick Return']\n",
        "\n",
        "  print('   Physical Cols:')\n",
        "  print(final_stats[physical_cols])\n",
        "\n",
        "  print('   Passing Cols:')\n",
        "  print(final_stats[passing_cols])\n",
        "\n",
        "  print('   Rushing Cols:')\n",
        "  print(final_stats[rushing_cols])\n",
        "\n",
        "  print('   Receiving Cols:')\n",
        "  print(final_stats[catching_cols])\n",
        "\n",
        "  print('   Blocking Cols:')\n",
        "  print(final_stats[blocking_cols])\n",
        "\n",
        "  print('   Coverage Cols:')\n",
        "  print(final_stats[coverage_cols])\n",
        "\n",
        "  print('   Pass Rush Cols:')\n",
        "  print(final_stats[passrush_cols])\n",
        "\n",
        "  print('   Kicking Cols:')\n",
        "  print(final_stats[kicking_cols])"
      ],
      "metadata": {
        "id": "lGr5fkkmQTmA"
      },
      "execution_count": 5,
      "outputs": []
    },
    {
      "cell_type": "code",
      "source": [
        "def player_check():\n",
        "  pos = ratings24.Position.unique()\n",
        "  pos_check = -1\n",
        "  arc_check = -1\n",
        "  while pos_check < 0:\n",
        "    global pos_search\n",
        "    pos_search = str(input('Positions: '  + str(pos) + '\\nInput Position: '))\n",
        "    filt_rating = ratings24.loc[ratings24['Position'] == pos_search]\n",
        "    if filt_rating.shape[0] == 0:\n",
        "      print('Invalid Value')\n",
        "    elif filt_rating.shape[0] > 0:\n",
        "      pos_check = 2\n",
        "  while arc_check < 0:\n",
        "    global arc_search\n",
        "    arc = filt_rating['Archetype'].unique()\n",
        "    arc_search = str(input('Archetypes: ' + str(arc) + \"\\nInput Archetype: \"))\n",
        "    global filt_arc\n",
        "    filt_arc = filt_rating.loc[filt_rating['Archetype'] == arc_search]\n",
        "    if filt_arc.shape[0] == 0:\n",
        "      print('Invalid Value')\n",
        "    elif filt_arc.shape[0] > 0:\n",
        "      arc_check = 2\n",
        "  global cols\n",
        "  cols = ['Overall Rating',\n",
        "        'Speed', 'Acceleration', 'Strength', 'Agility', 'Awareness',\n",
        "        'Catching', 'Carrying', 'Kick Power',\n",
        "        'Kick Accuracy', 'Run Block', 'Pass Block', 'Tackle',\n",
        "        'Break Tackle', 'Jumping', 'Kick Return', 'Injury', 'Stamina',\n",
        "        'Toughness', 'Trucking', 'Change Of Direction',\n",
        "        'Ball Carrier Vision', 'Stiff Arm', 'Spin Move', 'Juke Move',\n",
        "        'Impact Blocking', 'Run Block Power', 'Run Block Finesse',\n",
        "        'Pass Block Power', 'Pass Block Finesse', 'Lead Block', 'Power Moves',\n",
        "        'Finesse Moves', 'Block Shedding', 'Pursuit', 'Play Recognition',\n",
        "        'Man Coverage', 'Zone Coverage', 'Spectacular Catch',\n",
        "        'Catch In Traffic', 'Short Route Running', 'Medium Route Running',\n",
        "        'Deep Route Running', 'Hit Power', 'Press', 'Release',\n",
        "        'Break Sack', 'Throw Under Pressure', 'Throw Power',\n",
        "        'Throw Accuracy Short', 'Throw Accuracy Mid',\n",
        "        'Throw Accuracy Deep', 'Play Action', 'Throw On The Run', 'Height',\n",
        "        'Weight']\n",
        "\n",
        "  filt_arc = filt_arc[cols]\n",
        "#cols for filtering\n",
        "\n",
        "\n",
        "def generate_ratings():\n",
        "  overall_filt = (input('Input Desired Overall (numbers only/r for random): '))\n",
        "  if overall_filt == \"r\":\n",
        "    overall_filt = random.randint(55, 99)\n",
        "    print(\"Generated overall is \" + str(overall_filt))\n",
        "  elif overall_filt.isdigit() == True:\n",
        "    overall_filt = int(overall_filt)\n",
        "  overall_check_filt = -1\n",
        "  check_number = 0\n",
        "  while overall_check_filt < 0:\n",
        "    num_min = overall_filt - 3\n",
        "    num_max = overall_filt + 6\n",
        "\n",
        "    filt_val = filt_arc.loc[(num_min - check_number < filt_arc['Overall Rating']) & (filt_arc['Overall Rating'] < num_max + check_number)]\n",
        "\n",
        "    if filt_val.shape[0] > 2:\n",
        "      print('Overall Filter Range (' + str(filt_val['Overall Rating'].min()) + \"-\" + str(filt_val['Overall Rating'].max()) + \")\\nChecks: \" + str(check_number))\n",
        "      overall_check_filt = 1\n",
        "    check_number += 1\n",
        "  #creating final stats\n",
        "  global final_cols\n",
        "  final_cols = []\n",
        "  for col in cols:\n",
        "    filt_stat = filt_val[col]\n",
        "    if col == \"Awareness\":\n",
        "      if arc_search == 'QB_FieldGeneral':\n",
        "        added_stat = int(filt_stat.mean() * (random.randint(100, 130) / 100))\n",
        "    elif col == \"Height\":\n",
        "      added_stat = int(filt_stat.mean() * (random.randint(90, 130) / 100))\n",
        "    else:\n",
        "      added_stat = int(filt_stat.mean() * (random.randint(85, 110) / 100))\n",
        "    if (added_stat > 99) & (col != 'Weight'):\n",
        "      added_stat = 99\n",
        "    final_cols.append(added_stat)\n",
        "    #print(\"Num is \" + str(added_stat))\n",
        "  global final_stats\n",
        "  final_stats = pd.DataFrame(final_cols, (cols)).transpose()\n"
      ],
      "metadata": {
        "id": "oR5oyKnfJr3d"
      },
      "execution_count": 6,
      "outputs": []
    },
    {
      "cell_type": "markdown",
      "source": [
        "#**Generator (Run This)**"
      ],
      "metadata": {
        "id": "Lg9HiXfoCNiC"
      }
    },
    {
      "cell_type": "code",
      "source": [
        "player_check()\n",
        "generate_ratings()\n",
        "generate_name()\n",
        "print_stats()"
      ],
      "metadata": {
        "colab": {
          "base_uri": "https://localhost:8080/"
        },
        "id": "XnjIRvCl8L1Y",
        "outputId": "ec2b53b8-71ff-45ff-ba7d-3fd9a130bc05"
      },
      "execution_count": 8,
      "outputs": [
        {
          "output_type": "stream",
          "name": "stdout",
          "text": [
            "Positions: ['C' 'CB' 'DT' 'FB' 'FS' 'HB' 'K' 'LE' 'LG' 'LOLB' 'LT' 'MLB' 'P' 'QB'\n",
            " 'RE' 'RG' 'ROLB' 'RT' 'SS' 'TE' 'WR']\n",
            "Input Position: RT\n",
            "Archetypes: ['OT_Agile' 'OT_Power' 'OT_PassProtector']\n",
            "Input Archetype: OT_Agile\n",
            "Input Desired Overall (numbers only/r for random): 88\n",
            "Overall Filter Range (77-86)\n",
            "Checks: 9\n",
            "   Name: Tim Sachse\n",
            "   Skincolor: White\n",
            "   Physical Cols:\n",
            "   Height  Weight  Speed  Acceleration  Strength  Agility  Awareness  Carrying  Injury  Stamina  Toughness\n",
            "0      79     343     61            64        88       63         63        33      82       84         99\n",
            "   Passing Cols:\n",
            "   Throw Under Pressure  Throw Power  Throw Accuracy Short  Throw Accuracy Mid  Throw Accuracy Deep  Play Action  Throw On The Run  Break Sack\n",
            "0                    11           21                     8                   8                    5            6                 7          11\n",
            "   Rushing Cols:\n",
            "   Break Tackle  Jumping  Trucking  Power Moves  Finesse Moves  Change Of Direction  Ball Carrier Vision  Stiff Arm  Spin Move  Juke Move\n",
            "0            12       76        29           28             23                   56                   20         20          8         11\n",
            "   Receiving Cols:\n",
            "   Catching  Spectacular Catch  Catch In Traffic  Short Route Running  Medium Route Running  Deep Route Running  Release\n",
            "0        36                 23                17                   21                    11                   7       13\n",
            "   Blocking Cols:\n",
            "   Run Block  Run Block Power  Run Block Finesse  Pass Block  Pass Block Power  Pass Block Finesse  Lead Block  Impact Blocking\n",
            "0         81               89                 78          74                77                  73          83               84\n",
            "   Coverage Cols:\n",
            "   Press  Play Recognition  Man Coverage  Zone Coverage\n",
            "0     10                20            10             10\n",
            "   Pass Rush Cols:\n",
            "   Power Moves  Finesse Moves  Block Shedding  Pursuit\n",
            "0           28             23              39       32\n",
            "   Kicking Cols:\n",
            "   Kick Power  Kick Accuracy  Kick Return\n",
            "0          22             20            8\n"
          ]
        }
      ]
    }
  ]
}